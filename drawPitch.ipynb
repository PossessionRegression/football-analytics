{
 "cells": [
  {
   "cell_type": "code",
   "execution_count": 1,
   "metadata": {},
   "outputs": [],
   "source": [
    "import matplotlib.pyplot as plt"
   ]
  },
  {
   "cell_type": "code",
   "execution_count": 2,
   "metadata": {},
   "outputs": [],
   "source": [
    "def drawPitch(background = \"white\", line = \"black\"):\n",
    "    \n",
    "    fig,ax = plt.subplots(figsize=(10.4,6.8))\n",
    "    ax.axis('off') # this hides the x and y ticks\n",
    "    \n",
    "    # side and goal lines #\n",
    "    ly1 = [0,0,68,68,0]\n",
    "    lx1 = [0,104,104,0,0]\n",
    "    \n",
    "    plt.plot(lx1,ly1,color=line,zorder=5)\n",
    "    \n",
    "    ly2 = [13.84,13.84,54.16,54.16] \n",
    "    lx2 = [104,87.5,87.5,104]\n",
    "    plt.plot(lx2,ly2,color=line,zorder=5)\n",
    "    \n",
    "    ly3 = [13.84,13.84,54.16,54.16] \n",
    "    lx3 = [0,16.5,16.5,0]\n",
    "    plt.plot(lx3,ly3,color=line,zorder=5)\n",
    "        #goals#\n",
    "    ly4 = [30.34,30.34,37.66,37.66]\n",
    "    lx4 = [104,104.2,104.2,104]\n",
    "    plt.plot(lx4,ly4,color=line,zorder=5)\n",
    "    \n",
    "    ly5 = [30.34,30.34,37.66,37.66]\n",
    "    lx5 = [0,-0.2,-0.2,0]\n",
    "    plt.plot(lx5,ly5,color=line,zorder=5)\n",
    "    \n",
    "    \n",
    "    #6 yard boxes#\n",
    "    ly6 = [24.84,24.84,43.16,43.16]\n",
    "    lx6 = [104,99.5,99.5,104]\n",
    "    plt.plot(lx6,ly6,color=line,zorder=5)\n",
    "    \n",
    "    ly7 = [24.84,24.84,43.16,43.16]\n",
    "    lx7 = [0,4.5,4.5,0]\n",
    "    plt.plot(lx7,ly7,color=line,zorder=5)\n",
    "    \n",
    "    #Halfway line, penalty spots, and kickoff spot\n",
    "    vcy5 = [0,68] \n",
    "    vcx5 = [52,52]\n",
    "    plt.plot(vcx5,vcy5,color=line,zorder=5)\n",
    "    \n",
    "    \n",
    "    plt.scatter(93,34,color=line,zorder=5)\n",
    "    plt.scatter(11,34,color=line,zorder=5)\n",
    "    plt.scatter(52,34,color=line,zorder=5)\n",
    "    \n",
    "    circle1 = plt.Circle((93.5,34), 9.15,ls='solid',lw=1.5,color=line, fill=False, zorder=1,alpha=1)\n",
    "    circle2 = plt.Circle((10.5,34), 9.15,ls='solid',lw=1.5,color=line, fill=False, zorder=1,alpha=1)\n",
    "    circle3 = plt.Circle((52, 34), 9.15,ls='solid',lw=1.5,color=line, fill=False, zorder=2,alpha=1)\n",
    "    \n",
    "    ## Rectangles in boxes\n",
    "    rec1 = plt.Rectangle((87.5,20), 16,30,ls='-',color=background, zorder=1,alpha=1)\n",
    "    rec2 = plt.Rectangle((0, 20), 16.5,30,ls='-',color=background, zorder=1,alpha=1)\n",
    "     \n",
    "    ## Pitch rectangle\n",
    "    rec3 = plt.Rectangle((-1,-1), 106,70,color=background,zorder=1,alpha=1)\n",
    "     \n",
    "    ax.add_artist(rec3)\n",
    "    ax.add_artist(circle1)\n",
    "    ax.add_artist(circle2)\n",
    "    ax.add_artist(rec1)\n",
    "    ax.add_artist(rec2)\n",
    "    ax.add_artist(circle3)\n",
    "    \n",
    "    return ax"
   ]
  },
  {
   "cell_type": "code",
   "execution_count": 3,
   "metadata": {},
   "outputs": [],
   "source": [
    "def drawVPitch(background = \"white\", line = \"black\"):\n",
    "    \n",
    "    fig,ax = plt.subplots(figsize=(6.8,10.4))\n",
    "    ax.axis('off') # this hides the x and y ticks\n",
    "    \n",
    "    # side and goal lines #\n",
    "    lx1 = [0,0,68,68,0]\n",
    "    ly1 = [0,104,104,0,0]\n",
    "    \n",
    "    plt.plot(lx1,ly1,color=line,zorder=5)\n",
    "    \n",
    "    lx2 = [13.84,13.84,54.16,54.16] \n",
    "    ly2 = [104,87.5,87.5,104]\n",
    "    plt.plot(lx2,ly2,color=line,zorder=5)\n",
    " \n",
    "    lx3 = [13.84,13.84,54.16,54.16] \n",
    "    ly3 = [0,16.5,16.5,0]\n",
    "    plt.plot(lx3,ly3,color=line,zorder=5)\n",
    "        #goals#\n",
    "    lx4 = [30.34,30.34,37.66,37.66]\n",
    "    ly4 = [104,104.2,104.2,104]\n",
    "    plt.plot(lx4,ly4,color=line,zorder=5)\n",
    "    \n",
    "    lx5 = [30.34,30.34,37.66,37.66]\n",
    "    ly5 = [0,-0.2,-0.2,0]\n",
    "    plt.plot(lx5,ly5,color=line,zorder=5)\n",
    "        \n",
    "    #6 yard boxes#\n",
    "    lx6 = [24.84,24.84,43.16,43.16]\n",
    "    ly6 = [104,99.5,99.5,104]\n",
    "    plt.plot(lx6,ly6,color=line,zorder=5)\n",
    "    \n",
    "    lx7 = [24.84,24.84,43.16,43.16]\n",
    "    ly7 = [0,4.5,4.5,0]\n",
    "    plt.plot(lx7,ly7,color=line,zorder=5)\n",
    "    \n",
    "    #Halfway line, penalty spots, and kickoff spot\n",
    "    vcx5 = [0,68] \n",
    "    vcy5 = [52,52]\n",
    "    plt.plot(vcx5,vcy5,color=line,zorder=5)\n",
    "    \n",
    "    \n",
    "    plt.scatter(34,93,color=line,zorder=5)\n",
    "    plt.scatter(34,11,color=line,zorder=5)\n",
    "    plt.scatter(34,52,color=line,zorder=5)    \n",
    "    \n",
    "    circle1 = plt.Circle((34,93.5), 9.15,ls='solid',lw=1.5,color=line, fill=False, zorder=1,alpha=1)\n",
    "    circle2 = plt.Circle((34,10.5), 9.15,ls='solid',lw=1.5,color=line, fill=False, zorder=1,alpha=1)\n",
    "    circle3 = plt.Circle((34, 52), 9.15,ls='solid',lw=1.5,color=line, fill=False, zorder=2,alpha=1)\n",
    "    \n",
    "    ## Rectangles in boxes\n",
    "    rec1 = plt.Rectangle((20,87.5), 30,16,ls='-',color=background, zorder=1,alpha=1)\n",
    "    rec2 = plt.Rectangle((20, 0), 30,16.5,ls='-',color=background, zorder=1,alpha=1)\n",
    "     \n",
    "    ## Pitch rectangle\n",
    "    rec3 = plt.Rectangle((-1,-1), 70,106,color=background,zorder=1,alpha=1)\n",
    "     \n",
    "    ax.add_artist(rec3)\n",
    "    ax.add_artist(circle1)\n",
    "    ax.add_artist(circle2)\n",
    "    ax.add_artist(rec1)\n",
    "    ax.add_artist(rec2)\n",
    "    ax.add_artist(circle3)\n",
    "    \n",
    "    return ax"
   ]
  },
  {
   "cell_type": "code",
   "execution_count": 4,
   "metadata": {},
   "outputs": [
    {
     "data": {
      "text/plain": [
       "<matplotlib.axes._subplots.AxesSubplot at 0x1a36836d250>"
      ]
     },
     "execution_count": 4,
     "metadata": {},
     "output_type": "execute_result"
    },
    {
     "data": {
      "image/png": "[encoded data removed]",
      "text/plain": [
       "<Figure size 748.8x489.6 with 1 Axes>"
      ]
     },
     "metadata": {
      "needs_background": "light"
     },
     "output_type": "display_data"
    }
   ],
   "source": [
    "drawPitch(\"#203323\", \"#e0fce5\")"
   ]
  },
  {
   "cell_type": "code",
   "execution_count": 5,
   "metadata": {},
   "outputs": [
    {
     "data": {
      "text/plain": [
       "<matplotlib.axes._subplots.AxesSubplot at 0x1a36ab98490>"
      ]
     },
     "execution_count": 5,
     "metadata": {},
     "output_type": "execute_result"
    },
    {
     "data": {
      "image/png": "[encoded data removed]",
      "text/plain": [
       "<Figure size 489.6x748.8 with 1 Axes>"
      ]
     },
     "metadata": {
      "needs_background": "light"
     },
     "output_type": "display_data"
    }
   ],
   "source": [
    "drawVPitch(\"#531442\", \"white\")"
   ]
  },
  {
   "cell_type": "code",
   "execution_count": null,
   "metadata": {},
   "outputs": [],
   "source": []
  }
 ],
 "metadata": {
  "kernelspec": {
   "display_name": "Python 3",
   "language": "python",
   "name": "python3"
  },
  "language_info": {
   "codemirror_mode": {
    "name": "ipython",
    "version": 3
   },
   "file_extension": ".py",
   "mimetype": "text/x-python",
   "name": "python",
   "nbconvert_exporter": "python",
   "pygments_lexer": "ipython3",
   "version": "3.8.3"
  }
 },
 "nbformat": 4,
 "nbformat_minor": 4
}
