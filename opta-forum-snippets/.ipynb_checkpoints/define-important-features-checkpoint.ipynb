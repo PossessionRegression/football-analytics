{
 "cells": [
  {
   "cell_type": "code",
   "execution_count": null,
   "metadata": {},
   "outputs": [],
   "source": [
    "import pandas as pd\n",
    "import numpy as np  \n",
    "import ast"
   ]
  },
  {
   "cell_type": "code",
   "execution_count": null,
   "metadata": {},
   "outputs": [],
   "source": [
    "#Define player positions\n",
    "positions = [\"cb\",\"fb\",\"cdm\",\"cm\",\"cam\",\"winger\",\"forward\",\"gk\"]\n",
    "\n",
    "#For each position, get the most important features as defined by the PCA and attach a sign\n",
    "for position in positions:\n",
    "    \n",
    "    df = pd.read_csv(\"Stats\\\\\"+ position +\"\\\\principle_components.csv\", header=0)  \n",
    "    columns = pd.read_csv(\"Stats\\\\\"+ position +\"\\\\details.csv\", header=0)[\"playing_style\"].tolist()\n",
    "    \n",
    "    df.columns = [\"Unnamed: 0\"] + columns\n",
    "    \n",
    "    imp_f = pd.DataFrame(np.zeros((1,len(columns))), columns = columns)\n",
    "    imp_f = imp_f.astype('object')\n",
    "    \n",
    "    for component in columns:\n",
    "        attributes = df.loc[abs(df[component]) > 0.2, \"Unnamed: 0\"].tolist()\n",
    "        values = df.loc[abs(df[component]) > 0.2, [\"Unnamed: 0\", component]][component].tolist()\n",
    "        signs = []\n",
    "        weighting = []\n",
    "        for value in values:\n",
    "            weighting.append(abs(value))\n",
    "            if value < 0:\n",
    "                signs.append(\"Negative\")\n",
    "            else:\n",
    "                signs.append(\"Positive\")\n",
    "    \n",
    "        imp_f.at[0, component] = attributes\n",
    "        imp_f.at[1, component] = signs\n",
    "        imp_f.at[2, component] = weighting\n",
    "    \n",
    "    for column in list(imp_f):\n",
    "        weightings = imp_f[column][2]\n",
    "        total = sum(weightings)\n",
    "        scaled_weights = [weight / total for weight in weightings]\n",
    "        imp_f.at[3, column] = scaled_weights\n",
    "        \n",
    "    imp_f.to_csv(\"C:\\\\Stats\\\\\"+ position +\"\\\\important_features.csv\")"
   ]
  }
 ],
 "metadata": {
  "kernelspec": {
   "display_name": "Python 3",
   "language": "python",
   "name": "python3"
  },
  "language_info": {
   "codemirror_mode": {
    "name": "ipython",
    "version": 3
   },
   "file_extension": ".py",
   "mimetype": "text/x-python",
   "name": "python",
   "nbconvert_exporter": "python",
   "pygments_lexer": "ipython3",
   "version": "3.8.3"
  }
 },
 "nbformat": 4,
 "nbformat_minor": 4
}
