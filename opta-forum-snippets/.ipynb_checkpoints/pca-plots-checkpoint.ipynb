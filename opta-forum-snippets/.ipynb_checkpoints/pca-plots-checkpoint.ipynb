{
 "cells": [
  {
   "cell_type": "markdown",
   "metadata": {},
   "source": [
    "# Player Styles with Radar Plots"
   ]
  },
  {
   "cell_type": "markdown",
   "metadata": {},
   "source": [
    "<img src=\"AM-Example.png\" alt=\"Drawing\" style=\"width: 400px;\"/>"
   ]
  },
  {
   "cell_type": "code",
   "execution_count": null,
   "metadata": {},
   "outputs": [],
   "source": [
    "import matplotlib.pyplot as plt\n",
    "import pandas as pd\n",
    "from math import pi\n",
    "import os \n",
    "import plotly.plotly as py\n",
    "import plotly.graph_objs as go\n",
    "from plotly.offline import download_plotlyjs, init_notebook_mode,  plot\n",
    "from sklearn.preprocessing import StandardScaler"
   ]
  },
  {
   "cell_type": "code",
   "execution_count": null,
   "metadata": {},
   "outputs": [],
   "source": [
    "def radarPlot(plot_data):\n",
    "    #print radar plot for data given\n",
    "    values = plot_data.iloc[0].tolist()\n",
    "    axis = columns.tolist()\n",
    "    \n",
    "    values += values[:1]\n",
    "    axis += axis[:1]\n",
    "    position_clusters.iloc[0,1:len(position_clusters.columns)-2].tolist() + position_clusters.iloc[0,1:len(position_clusters.columns)-2].tolist()[:1]\n",
    "    position_clusters.columns[1:len(position_clusters.columns)-2].tolist() + position_clusters.columns[1:len(position_clusters.columns)-2].tolist()[:1]\n",
    "\n",
    "    data = [go.Scatterpolar(\n",
    "      r = values,\n",
    "      theta = axis,\n",
    "      fill = 'toself'\n",
    "    )]   \n",
    "    \n",
    "    layout = go.Layout(\n",
    "      polar = dict(\n",
    "        radialaxis = dict(\n",
    "          visible = True,\n",
    "          range = [0, 1]\n",
    "        )\n",
    "      ),\n",
    "      showlegend = False\n",
    "    )\n",
    "    \n",
    "    fig = go.Figure(data=data, layout=layout)\n",
    "    #py.iplot(fig, filename = \"radar/basic\")\n",
    "    plot(fig)\n"
   ]
  },
  {
   "cell_type": "code",
   "execution_count": null,
   "metadata": {},
   "outputs": [],
   "source": [
    "def compareRadar(plot_data):\n",
    "    #print radar plot for data given\n",
    "    values = plot_data.iloc[:,1:]\n",
    "    p1_values = values.iloc[0].tolist()\n",
    "    p2_values = values.iloc[1].tolist()\n",
    "    axis = columns.tolist()\n",
    "    \n",
    "    p1_values += p1_values[:1]\n",
    "    p2_values += p2_values[:1]\n",
    "\n",
    "    axis += axis[:1]\n",
    "        \n",
    "    data = [go.Scatterpolar(\n",
    "      r = p1_values,\n",
    "      theta = axis,\n",
    "      fill = 'toself',\n",
    "      name = 'player1'\n",
    "    ),\n",
    "    go.Scatterpolar(\n",
    "      r = p2_values,\n",
    "      theta = axis,\n",
    "      fill = 'toself',\n",
    "      name = 'player1'\n",
    "\n",
    "    ),\n",
    "    ]\n",
    "    \n",
    "    layout = go.Layout(\n",
    "      polar = dict(\n",
    "        radialaxis = dict(\n",
    "          visible = True,\n",
    "          range = [0, values.values.max()]\n",
    "        )\n",
    "      ),\n",
    "      showlegend = False\n",
    "    )\n",
    "    \n",
    "    fig = go.Figure(data=data, layout=layout)\n",
    "    #py.iplot(fig, filename = \"radar/basic\")\n",
    "    plot(fig)"
   ]
  }
 ],
 "metadata": {
  "kernelspec": {
   "display_name": "Python 3",
   "language": "python",
   "name": "python3"
  },
  "language_info": {
   "codemirror_mode": {
    "name": "ipython",
    "version": 3
   },
   "file_extension": ".py",
   "mimetype": "text/x-python",
   "name": "python",
   "nbconvert_exporter": "python",
   "pygments_lexer": "ipython3",
   "version": "3.8.3"
  }
 },
 "nbformat": 4,
 "nbformat_minor": 4
}
